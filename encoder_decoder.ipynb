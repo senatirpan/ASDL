{
 "cells": [
  {
   "cell_type": "code",
   "execution_count": 1,
   "metadata": {
    "ExecuteTime": {
     "end_time": "2023-07-21T10:02:17.642580200Z",
     "start_time": "2023-07-21T10:02:13.225227600Z"
    },
    "collapsed": false,
    "jupyter": {
     "outputs_hidden": false
    }
   },
   "outputs": [
    {
     "name": "stderr",
     "output_type": "stream",
     "text": [
      "2023-07-21 18:34:24.206381: I tensorflow/core/util/port.cc:110] oneDNN custom operations are on. You may see slightly different numerical results due to floating-point round-off errors from different computation orders. To turn them off, set the environment variable `TF_ENABLE_ONEDNN_OPTS=0`.\n",
      "2023-07-21 18:34:24.253773: I tensorflow/core/platform/cpu_feature_guard.cc:182] This TensorFlow binary is optimized to use available CPU instructions in performance-critical operations.\n",
      "To enable the following instructions: AVX2 AVX512F AVX512_VNNI FMA, in other operations, rebuild TensorFlow with the appropriate compiler flags.\n",
      "2023-07-21 18:34:28.791295: W tensorflow/compiler/tf2tensorrt/utils/py_utils.cc:38] TF-TRT Warning: Could not find TensorRT\n"
     ]
    }
   ],
   "source": [
    "import json\n",
    "import os\n",
    "import sys\n",
    "\n",
    "import torch\n",
    "import torch.nn as nn\n",
    "import torch.nn.functional as F\n",
    "import torch.optim as optim\n",
    "import torch.utils.data as data\n",
    "from torch.nn.utils.rnn import pad_sequence\n",
    "from transformers import BertModel, BertForMaskedLM, BertConfig, EncoderDecoderModel\n",
    "from transformers import BertTokenizer"
   ]
  },
  {
   "cell_type": "code",
   "execution_count": 2,
   "metadata": {
    "ExecuteTime": {
     "end_time": "2023-07-21T10:02:33.082970100Z",
     "start_time": "2023-07-21T10:02:33.073684900Z"
    },
    "collapsed": false,
    "jupyter": {
     "outputs_hidden": false
    }
   },
   "outputs": [
    {
     "data": {
      "text/plain": [
       "True"
      ]
     },
     "execution_count": 2,
     "metadata": {},
     "output_type": "execute_result"
    }
   ],
   "source": [
    "torch.cuda.is_available()"
   ]
  },
  {
   "cell_type": "code",
   "execution_count": 3,
   "metadata": {
    "ExecuteTime": {
     "end_time": "2023-07-21T10:03:35.764527900Z",
     "start_time": "2023-07-21T10:03:35.759349500Z"
    },
    "collapsed": false,
    "jupyter": {
     "outputs_hidden": false
    }
   },
   "outputs": [],
   "source": [
    "from tokenizers.processors import BertProcessing\n",
    "from tokenizers.implementations import BertWordPieceTokenizer\n",
    "\n",
    "\n",
    "def train_tokenizer(filename, params):\n",
    "    \"\"\"\n",
    "    Train a BertWordPieceTokenizer with the specified params and save it\n",
    "    \"\"\"\n",
    "    # Get tokenization params\n",
    "    save_location = params[\"tokenizer_path\"]\n",
    "    max_length = params[\"max_length\"]\n",
    "    min_freq = params[\"min_freq\"]\n",
    "    vocabsize = params[\"vocab_size\"]\n",
    "\n",
    "    tokenizer = BertWordPieceTokenizer()\n",
    "    tokenizer.do_lower_case = False\n",
    "    tokenizer.train(files=[filename], vocab_size=vocabsize, min_frequency=min_freq) #, special_tokens = special_tokens)\n",
    "\n",
    "    sep_id = tokenizer.token_to_id(\"[SEP]\")\n",
    "    cls_id = tokenizer.token_to_id(\"[CLS]\")\n",
    "    tokenizer._tokenizer.post_processor = BertProcessing(sep=(\"[SEP]\", sep_id), cls=(\"[CLS]\", cls_id), )\n",
    "    tokenizer.enable_truncation(max_length=max_length)\n",
    "    print(\"Saving tokenizer ... \" + save_location)\n",
    "    if not os.path.exists(save_location):\n",
    "        os.makedirs(save_location)\n",
    "    tokenizer.save(save_location + \"vocab.txt\")\n",
    "    return tokenizer\n",
    "\n",
    "def count_parameters(mdl):\n",
    "    return sum(p.numel() for p in mdl.parameters() if p.requires_grad)\n",
    "\n",
    "\n",
    "def compute_loss(predictions, targets):\n",
    "    \"\"\"Compute our custom loss\"\"\"\n",
    "    predictions = predictions[:, :-1, :].contiguous()\n",
    "    targets = targets[:, 1:]\n",
    "\n",
    "    rearranged_output = predictions.view(predictions.shape[0] * predictions.shape[1], -1)\n",
    "    rearranged_target = targets.contiguous().view(-1)\n",
    "\n",
    "    loss = criterion(rearranged_output, rearranged_target)\n",
    "\n",
    "    return loss\n",
    "\n",
    "\n",
    "def train_model():\n",
    "    model.train()\n",
    "    epoch_loss = 0\n",
    "\n",
    "    for i, (en_input, en_masks, de_output, de_masks) in enumerate(train_dataloader):\n",
    "        optimizer.zero_grad()\n",
    "\n",
    "        en_input = en_input.to(device)\n",
    "        de_output = de_output.to(device)\n",
    "        en_masks = en_masks.to(device)\n",
    "        de_masks = de_masks.to(device)\n",
    "        \n",
    "        lm_labels = de_output.clone()\n",
    "        out = model(input_ids=en_input, attention_mask=en_masks,\n",
    "                    decoder_input_ids=de_output, decoder_attention_mask=de_masks, labels=lm_labels)\n",
    "        prediction_scores = out[1]\n",
    "        predictions = F.log_softmax(prediction_scores, dim=2)\n",
    "        loss = compute_loss(predictions, de_output)\n",
    "\n",
    "        loss.backward()\n",
    "        torch.nn.utils.clip_grad_norm_(model.parameters(), 1.0)\n",
    "        optimizer.step()\n",
    "\n",
    "        epoch_loss += loss.item()\n",
    "\n",
    "    print(\"Mean epoch loss:\", (epoch_loss / num_train_batches))\n",
    "\n",
    "\n",
    "def eval_model():\n",
    "    model.eval()\n",
    "    epoch_loss = 0\n",
    "\n",
    "    for i, (en_input, en_masks, de_output, de_masks) in enumerate(train_dataloader):\n",
    "        optimizer.zero_grad()\n",
    "\n",
    "        en_input = en_input.to(device)\n",
    "        de_output = de_output.to(device)\n",
    "        en_masks = en_masks.to(device)\n",
    "        de_masks = de_masks.to(device)\n",
    "\n",
    "        lm_labels = de_output.clone()\n",
    "\n",
    "        out = model(input_ids=en_input, attention_mask=en_masks,\n",
    "                    decoder_input_ids=de_output, decoder_attention_mask=de_masks, labels=lm_labels)\n",
    "\n",
    "        prediction_scores = out[1]\n",
    "        predictions = F.log_softmax(prediction_scores, dim=2)\n",
    "        loss = compute_loss(predictions, de_output)\n",
    "        epoch_loss += loss.item()\n",
    "\n",
    "    print(\"Mean validation loss:\", (epoch_loss / num_valid_batches))\n",
    "\n",
    "\n",
    "class TranslationDataset(data.Dataset):\n",
    "\n",
    "    def __init__(self, inp_file, targ_file, inp_tokenizer, targ_tokenizer, inp_maxlength, targ_maxlength):\n",
    "\n",
    "        self.inp_tokenizer = inp_tokenizer\n",
    "        self.targ_tokenizer = targ_tokenizer\n",
    "        self.inp_maxlength = inp_maxlength\n",
    "        self.targ_maxlength = targ_maxlength\n",
    "\n",
    "        print(\"Loading and Tokenizing the data ...\")\n",
    "        self.encoded_inp = []\n",
    "        self.encoded_targ = []\n",
    "\n",
    "        # Read the EN lines\n",
    "        num_inp_lines = 0\n",
    "        with open(inp_file, \"r\", encoding=\"utf-8\") as ef:\n",
    "            for line in ef:\n",
    "                stripped_line = line.strip()\n",
    "                # print(stripped_line)\n",
    "                enc = self.inp_tokenizer.encode(stripped_line) #, add_special_tokens=True, max_length=self.inp_maxlength)\n",
    "                # print(enc)\n",
    "                self.encoded_inp.append(torch.tensor(enc))\n",
    "                # self.encoded_inp.append(enc)\n",
    "                num_inp_lines += 1\n",
    "\n",
    "        # read the DE lines\n",
    "        num_targ_lines = 0\n",
    "        with open(targ_file, \"r\", encoding=\"utf-8\") as df:\n",
    "            for line in df:\n",
    "                enc = self.targ_tokenizer.encode(line.strip()) # , add_special_tokens=True, max_length=self.targ_maxlength)\n",
    "                self.encoded_targ.append(torch.tensor(enc))\n",
    "                # self.encoded_targ.append(enc)\n",
    "                num_targ_lines += 1\n",
    "\n",
    "        assert (num_inp_lines == num_targ_lines), \"Mismatch in Nl and Code lines\"\n",
    "        print(\"Read\", num_inp_lines, \"lines from Nl and Code files.\")\n",
    "\n",
    "    def __getitem__(self, offset):\n",
    "        en = self.encoded_inp[offset]\n",
    "        de = self.encoded_targ[offset]\n",
    "\n",
    "        return en, en.shape[0], de, de.shape[0]\n",
    "\n",
    "    def __len__(self):\n",
    "        return len(self.encoded_inp)\n",
    "\n",
    "    def collate_function(self, batch):\n",
    "\n",
    "        (inputs, inp_lengths, targets, targ_lengths) = zip(*batch)\n",
    "\n",
    "        padded_inputs = self._collate_helper(inputs, self.inp_tokenizer)\n",
    "        padded_targets = self._collate_helper(targets, self.targ_tokenizer)\n",
    "\n",
    "        max_inp_seq_len = padded_inputs.shape[1]\n",
    "        max_out_seq_len = padded_targets.shape[1]\n",
    "\n",
    "        input_masks = [[1] * l + [0] * (max_inp_seq_len - l) for l in inp_lengths]\n",
    "        target_masks = [[1] * l + [0] * (max_out_seq_len - l) for l in targ_lengths]\n",
    "\n",
    "        input_tensor = padded_inputs.to(torch.int64)\n",
    "        target_tensor = padded_targets.to(torch.int64)\n",
    "        input_masks = torch.Tensor(input_masks)\n",
    "        target_masks = torch.Tensor(target_masks)\n",
    "\n",
    "        return input_tensor, input_masks, target_tensor, target_masks\n",
    "\n",
    "    def _collate_helper(self, examples, tokenizer):\n",
    "        length_of_first = examples[0].size(0)\n",
    "        are_tensors_same_length = all(x.size(0) == length_of_first for x in examples)\n",
    "        if are_tensors_same_length:\n",
    "            return torch.stack(examples, dim=0)\n",
    "        else:\n",
    "            if tokenizer._pad_token is None:\n",
    "                raise ValueError(\n",
    "                    \"You are attempting to pad samples but the tokenizer you are using\"\n",
    "                    f\" ({tokenizer.__class__.__name__}) does not have one.\"\n",
    "                )\n",
    "            return pad_sequence(examples, batch_first=True, padding_value=tokenizer.pad_token_id)\n"
   ]
  },
  {
   "cell_type": "code",
   "execution_count": 4,
   "metadata": {
    "ExecuteTime": {
     "end_time": "2023-07-21T10:02:34.641197900Z",
     "start_time": "2023-07-21T10:02:34.631680700Z"
    },
    "collapsed": false,
    "jupyter": {
     "outputs_hidden": false
    }
   },
   "outputs": [],
   "source": [
    "configfile = r\"config.json\""
   ]
  },
  {
   "cell_type": "code",
   "execution_count": 5,
   "metadata": {
    "ExecuteTime": {
     "end_time": "2023-07-21T10:03:55.069580500Z",
     "start_time": "2023-07-21T10:03:46.461010500Z"
    },
    "collapsed": false,
    "jupyter": {
     "outputs_hidden": false
    }
   },
   "outputs": [
    {
     "name": "stdout",
     "output_type": "stream",
     "text": [
      "\n",
      "\n",
      "\n",
      "Saving tokenizer ... tokenizers/en_tok/\n",
      "\n",
      "\n",
      "\n",
      "Saving tokenizer ... tokenizers/de_tok/\n"
     ]
    }
   ],
   "source": [
    "# Read the params\n",
    "with open(configfile, \"r\") as f:\n",
    "    config = json.load(f)\n",
    "\n",
    "globalparams = config[\"global_params\"]\n",
    "encparams = config[\"encoder_params\"]\n",
    "decparams = config[\"decoder_params\"]\n",
    "\n",
    "# Get the dataset files\n",
    "train_en_file = globalparams[\"train_en_file\"]\n",
    "train_de_file = globalparams[\"train_de_file\"]\n",
    "\n",
    "# Train the tokenizers\n",
    "test_en_tokenizer = train_tokenizer(train_en_file, encparams)\n",
    "test_de_tokenizer = train_tokenizer(train_de_file, decparams)\n"
   ]
  },
  {
   "cell_type": "code",
   "execution_count": 6,
   "metadata": {
    "ExecuteTime": {
     "end_time": "2023-07-21T10:03:55.116769800Z",
     "start_time": "2023-07-21T10:03:55.072579900Z"
    }
   },
   "outputs": [],
   "source": [
    "from transformers import BertTokenizerFast\n",
    "\n",
    "globalparams = config[\"global_params\"]\n",
    "encparams = config[\"encoder_params\"]\n",
    "decparams = config[\"decoder_params\"]\n",
    "modelparams = config[\"model_params\"]\n",
    "\n",
    "# Load the tokenizers\n",
    "# additional_special_tokens = {\"additional_token\": 999}\n",
    "# [\"[S]\",\"[/S]\"]\n",
    "\n",
    "special_tokens = [\n",
    "    (\"[PAD]\", 0),\n",
    "    (\"[UNK]\", 1),\n",
    "    (\"[MASK]\", 2),\n",
    "    (\"[SEP]\", 3),\n",
    "    (\"[CLS]\", 4)\n",
    "]\n",
    "\n",
    "en_tok_path = encparams[\"tokenizer_path\"]\n",
    "en_tokenizer = BertTokenizerFast(os.path.join(en_tok_path, \"vocab.txt\"), special_tokens=special_tokens, tokenizer_object = test_en_tokenizer)\n",
    "#en_tokenizer = BertTokenizerFast.from_pretrained(os.path.join(en_tok_path, \"vocab.txt\"))\n",
    "\n",
    "de_tok_path = decparams[\"tokenizer_path\"]\n",
    "#de_tokenizer = BertTokenizerFast.from_pretrained(os.path.join(de_tok_path, \"vocab.txt\"))\n",
    "de_tokenizer = BertTokenizerFast(os.path.join(de_tok_path, \"vocab.txt\"), special_tokens=special_tokens, tokenizer_object = test_en_tokenizer)\n",
    "\n",
    "# Init the dataset\n",
    "train_en_file = globalparams[\"train_en_file\"]\n",
    "train_de_file = globalparams[\"train_de_file\"]\n",
    "valid_en_file = globalparams[\"valid_en_file\"]\n",
    "valid_de_file = globalparams[\"valid_de_file\"]\n",
    "\n",
    "enc_maxlength = encparams[\"max_length\"]\n",
    "dec_maxlength = decparams[\"max_length\"]\n",
    "batch_size = modelparams[\"batch_size\"]"
   ]
  },
  {
   "cell_type": "code",
   "execution_count": 7,
   "metadata": {
    "ExecuteTime": {
     "end_time": "2023-07-21T10:04:24.687349900Z",
     "start_time": "2023-07-21T10:03:55.111772Z"
    },
    "collapsed": false,
    "jupyter": {
     "outputs_hidden": false
    }
   },
   "outputs": [
    {
     "name": "stdout",
     "output_type": "stream",
     "text": [
      "Loading and Tokenizing the data ...\n",
      "Read 100000 lines from Nl and Code files.\n"
     ]
    }
   ],
   "source": [
    "train_dataset = TranslationDataset(train_en_file, train_de_file, en_tokenizer, de_tokenizer, enc_maxlength,\n",
    "                                   dec_maxlength)\n",
    "train_dataloader = torch.utils.data.DataLoader(dataset=train_dataset, batch_size=batch_size, shuffle=False, \\\n",
    "                                               drop_last=True, num_workers=1, collate_fn=train_dataset.collate_function)"
   ]
  },
  {
   "cell_type": "code",
   "execution_count": 8,
   "metadata": {
    "ExecuteTime": {
     "end_time": "2023-07-21T10:04:27.964795Z",
     "start_time": "2023-07-21T10:04:24.688351300Z"
    },
    "collapsed": false,
    "jupyter": {
     "outputs_hidden": false
    }
   },
   "outputs": [
    {
     "name": "stdout",
     "output_type": "stream",
     "text": [
      "Loading and Tokenizing the data ...\n",
      "Read 10000 lines from Nl and Code files.\n"
     ]
    }
   ],
   "source": [
    "valid_dataset = TranslationDataset(valid_en_file, valid_de_file, en_tokenizer, de_tokenizer, enc_maxlength,\n",
    "                                   dec_maxlength)\n",
    "valid_dataloader = torch.utils.data.DataLoader(dataset=valid_dataset, batch_size=batch_size, shuffle=False, \\\n",
    "                                               drop_last=True, num_workers=1, collate_fn=valid_dataset.collate_function)"
   ]
  },
  {
   "cell_type": "code",
   "execution_count": 9,
   "metadata": {
    "ExecuteTime": {
     "end_time": "2023-07-21T08:40:14.685112Z",
     "start_time": "2023-07-21T08:40:13.643989400Z"
    },
    "collapsed": false,
    "jupyter": {
     "outputs_hidden": false
    }
   },
   "outputs": [
    {
     "name": "stdout",
     "output_type": "stream",
     "text": [
      "Using device: cuda\n",
      "Loading models ..\n"
     ]
    },
    {
     "data": {
      "text/plain": [
       "EncoderDecoderModel(\n",
       "  (encoder): BertModel(\n",
       "    (embeddings): BertEmbeddings(\n",
       "      (word_embeddings): Embedding(25000, 512, padding_idx=0)\n",
       "      (position_embeddings): Embedding(576, 512)\n",
       "      (token_type_embeddings): Embedding(1, 512)\n",
       "      (LayerNorm): LayerNorm((512,), eps=1e-12, elementwise_affine=True)\n",
       "      (dropout): Dropout(p=0.1, inplace=False)\n",
       "    )\n",
       "    (encoder): BertEncoder(\n",
       "      (layer): ModuleList(\n",
       "        (0-7): 8 x BertLayer(\n",
       "          (attention): BertAttention(\n",
       "            (self): BertSelfAttention(\n",
       "              (query): Linear(in_features=512, out_features=512, bias=True)\n",
       "              (key): Linear(in_features=512, out_features=512, bias=True)\n",
       "              (value): Linear(in_features=512, out_features=512, bias=True)\n",
       "              (dropout): Dropout(p=0.1, inplace=False)\n",
       "            )\n",
       "            (output): BertSelfOutput(\n",
       "              (dense): Linear(in_features=512, out_features=512, bias=True)\n",
       "              (LayerNorm): LayerNorm((512,), eps=1e-12, elementwise_affine=True)\n",
       "              (dropout): Dropout(p=0.1, inplace=False)\n",
       "            )\n",
       "          )\n",
       "          (intermediate): BertIntermediate(\n",
       "            (dense): Linear(in_features=512, out_features=3072, bias=True)\n",
       "            (intermediate_act_fn): GELUActivation()\n",
       "          )\n",
       "          (output): BertOutput(\n",
       "            (dense): Linear(in_features=3072, out_features=512, bias=True)\n",
       "            (LayerNorm): LayerNorm((512,), eps=1e-12, elementwise_affine=True)\n",
       "            (dropout): Dropout(p=0.1, inplace=False)\n",
       "          )\n",
       "        )\n",
       "      )\n",
       "    )\n",
       "    (pooler): BertPooler(\n",
       "      (dense): Linear(in_features=512, out_features=512, bias=True)\n",
       "      (activation): Tanh()\n",
       "    )\n",
       "  )\n",
       "  (decoder): BertLMHeadModel(\n",
       "    (bert): BertModel(\n",
       "      (embeddings): BertEmbeddings(\n",
       "        (word_embeddings): Embedding(25000, 512, padding_idx=0)\n",
       "        (position_embeddings): Embedding(320, 512)\n",
       "        (token_type_embeddings): Embedding(1, 512)\n",
       "        (LayerNorm): LayerNorm((512,), eps=1e-12, elementwise_affine=True)\n",
       "        (dropout): Dropout(p=0.1, inplace=False)\n",
       "      )\n",
       "      (encoder): BertEncoder(\n",
       "        (layer): ModuleList(\n",
       "          (0-7): 8 x BertLayer(\n",
       "            (attention): BertAttention(\n",
       "              (self): BertSelfAttention(\n",
       "                (query): Linear(in_features=512, out_features=512, bias=True)\n",
       "                (key): Linear(in_features=512, out_features=512, bias=True)\n",
       "                (value): Linear(in_features=512, out_features=512, bias=True)\n",
       "                (dropout): Dropout(p=0.1, inplace=False)\n",
       "              )\n",
       "              (output): BertSelfOutput(\n",
       "                (dense): Linear(in_features=512, out_features=512, bias=True)\n",
       "                (LayerNorm): LayerNorm((512,), eps=1e-12, elementwise_affine=True)\n",
       "                (dropout): Dropout(p=0.1, inplace=False)\n",
       "              )\n",
       "            )\n",
       "            (crossattention): BertAttention(\n",
       "              (self): BertSelfAttention(\n",
       "                (query): Linear(in_features=512, out_features=512, bias=True)\n",
       "                (key): Linear(in_features=512, out_features=512, bias=True)\n",
       "                (value): Linear(in_features=512, out_features=512, bias=True)\n",
       "                (dropout): Dropout(p=0.1, inplace=False)\n",
       "              )\n",
       "              (output): BertSelfOutput(\n",
       "                (dense): Linear(in_features=512, out_features=512, bias=True)\n",
       "                (LayerNorm): LayerNorm((512,), eps=1e-12, elementwise_affine=True)\n",
       "                (dropout): Dropout(p=0.1, inplace=False)\n",
       "              )\n",
       "            )\n",
       "            (intermediate): BertIntermediate(\n",
       "              (dense): Linear(in_features=512, out_features=3072, bias=True)\n",
       "              (intermediate_act_fn): GELUActivation()\n",
       "            )\n",
       "            (output): BertOutput(\n",
       "              (dense): Linear(in_features=3072, out_features=512, bias=True)\n",
       "              (LayerNorm): LayerNorm((512,), eps=1e-12, elementwise_affine=True)\n",
       "              (dropout): Dropout(p=0.1, inplace=False)\n",
       "            )\n",
       "          )\n",
       "        )\n",
       "      )\n",
       "    )\n",
       "    (cls): BertOnlyMLMHead(\n",
       "      (predictions): BertLMPredictionHead(\n",
       "        (transform): BertPredictionHeadTransform(\n",
       "          (dense): Linear(in_features=512, out_features=512, bias=True)\n",
       "          (transform_act_fn): GELUActivation()\n",
       "          (LayerNorm): LayerNorm((512,), eps=1e-12, elementwise_affine=True)\n",
       "        )\n",
       "        (decoder): Linear(in_features=512, out_features=25000, bias=True)\n",
       "      )\n",
       "    )\n",
       "  )\n",
       ")"
      ]
     },
     "execution_count": 9,
     "metadata": {},
     "output_type": "execute_result"
    }
   ],
   "source": [
    "from transformers import BertLMHeadModel\n",
    "\n",
    "device = torch.device('cuda' if torch.cuda.is_available() else 'cpu')\n",
    "print(\"Using device:\", device)\n",
    "\n",
    "print(\"Loading models ..\")\n",
    "vocabsize = encparams[\"vocab_size\"]\n",
    "max_length = encparams[\"max_length\"]\n",
    "encoder_config = BertConfig(vocab_size=vocabsize,\n",
    "                            max_position_embeddings=max_length + 64,  # this shuold be some large value\n",
    "                            num_attention_heads=encparams[\"num_attn_heads\"],\n",
    "                            num_hidden_layers=encparams[\"num_hidden_layers\"],\n",
    "                            hidden_size=encparams[\"hidden_size\"],\n",
    "                            type_vocab_size=1)\n",
    "\n",
    "encoder = BertModel(config=encoder_config)\n",
    "\n",
    "vocabsize = decparams[\"vocab_size\"]\n",
    "max_length = decparams[\"max_length\"]\n",
    "decoder_config = BertConfig(vocab_size=vocabsize,\n",
    "                            add_cross_attention=True,\n",
    "                            max_position_embeddings=max_length + 64,  # this shuold be some large value\n",
    "                            num_attention_heads=decparams[\"num_attn_heads\"],\n",
    "                            num_hidden_layers=decparams[\"num_hidden_layers\"],\n",
    "                            hidden_size=decparams[\"hidden_size\"],\n",
    "                            type_vocab_size=1,\n",
    "                            is_decoder=True)  # Very Important\n",
    "\n",
    "decoder = BertLMHeadModel(config=decoder_config)\n",
    "\n",
    "\n",
    "# Define encoder decoder model\n",
    "model = EncoderDecoderModel(encoder=encoder, decoder=decoder)\n",
    "model.to(device)"
   ]
  },
  {
   "cell_type": "code",
   "execution_count": 10,
   "metadata": {
    "ExecuteTime": {
     "end_time": "2023-07-21T08:40:14.692303400Z",
     "start_time": "2023-07-21T08:40:14.690293800Z"
    },
    "collapsed": false,
    "jupyter": {
     "outputs_hidden": false
    }
   },
   "outputs": [
    {
     "name": "stdout",
     "output_type": "stream",
     "text": [
      "The encoder has 46,974,976 trainable parameters\n",
      "The decoder has 55,283,112 trainable parameters\n",
      "The model has 102,258,088 trainable parameters\n"
     ]
    }
   ],
   "source": [
    "print(f'The encoder has {count_parameters(encoder):,} trainable parameters')\n",
    "print(f'The decoder has {count_parameters(decoder):,} trainable parameters')\n",
    "print(f'The model has {count_parameters(model):,} trainable parameters')\n",
    "\n",
    "optimizer = optim.Adam(model.parameters(), lr=modelparams['lr'])\n",
    "criterion = nn.NLLLoss(ignore_index=de_tokenizer.pad_token_id)\n",
    "\n",
    "num_train_batches = len(train_dataloader)\n",
    "num_valid_batches = len(valid_dataloader)"
   ]
  },
  {
   "cell_type": "code",
   "execution_count": 11,
   "metadata": {
    "ExecuteTime": {
     "end_time": "2023-07-21T08:40:14.697307Z",
     "start_time": "2023-07-21T08:40:14.692303400Z"
    },
    "collapsed": false,
    "jupyter": {
     "outputs_hidden": false
    }
   },
   "outputs": [
    {
     "data": {
      "text/plain": [
       "6250"
      ]
     },
     "metadata": {},
     "output_type": "display_data"
    },
    {
     "data": {
      "text/plain": [
       "625"
      ]
     },
     "metadata": {},
     "output_type": "display_data"
    }
   ],
   "source": [
    "display(num_train_batches)\n",
    "display(num_valid_batches)"
   ]
  },
  {
   "cell_type": "code",
   "execution_count": null,
   "metadata": {
    "ExecuteTime": {
     "start_time": "2023-07-17T19:24:23.621693900Z"
    },
    "collapsed": false,
    "jupyter": {
     "outputs_hidden": false
    }
   },
   "outputs": [
    {
     "name": "stdout",
     "output_type": "stream",
     "text": [
      "Starting epoch 1\n",
      "huggingface/tokenizers: The current process just got forked, after parallelism has already been used. Disabling parallelism to avoid deadlocks...\n",
      "To disable this warning, you can either:\n",
      "\t- Avoid using `tokenizers` before the fork if possible\n",
      "\t- Explicitly set the environment variable TOKENIZERS_PARALLELISM=(true | false)\n"
     ]
    },
    {
     "name": "stderr",
     "output_type": "stream",
     "text": [
      "/home/st/st_us-051500/st_st180960/.local/lib/python3.9/site-packages/transformers/models/encoder_decoder/modeling_encoder_decoder.py:642: FutureWarning: Version v4.12.0 introduces a better way to train encoder-decoder models by computing the loss inside the encoder-decoder framework rather than in the decoder itself. You may observe training discrepancies if fine-tuning a model trained with versions anterior to 4.12.0. The decoder_input_ids are now created based on the labels, no need to pass them yourself anymore.\n",
      "  warnings.warn(DEPRECATION_WARNING, FutureWarning)\n"
     ]
    },
    {
     "name": "stdout",
     "output_type": "stream",
     "text": [
      "Mean epoch loss: 4.343282131824493\n",
      "huggingface/tokenizers: The current process just got forked, after parallelism has already been used. Disabling parallelism to avoid deadlocks...\n",
      "To disable this warning, you can either:\n",
      "\t- Avoid using `tokenizers` before the fork if possible\n",
      "\t- Explicitly set the environment variable TOKENIZERS_PARALLELISM=(true | false)\n",
      "Mean validation loss: 36.171367586517334\n",
      "Starting epoch 2\n",
      "huggingface/tokenizers: The current process just got forked, after parallelism has already been used. Disabling parallelism to avoid deadlocks...\n",
      "To disable this warning, you can either:\n",
      "\t- Avoid using `tokenizers` before the fork if possible\n",
      "\t- Explicitly set the environment variable TOKENIZERS_PARALLELISM=(true | false)\n",
      "Mean epoch loss: 3.457275470571518\n",
      "huggingface/tokenizers: The current process just got forked, after parallelism has already been used. Disabling parallelism to avoid deadlocks...\n",
      "To disable this warning, you can either:\n",
      "\t- Avoid using `tokenizers` before the fork if possible\n",
      "\t- Explicitly set the environment variable TOKENIZERS_PARALLELISM=(true | false)\n",
      "Mean validation loss: 32.433884098529816\n",
      "Starting epoch 3\n",
      "huggingface/tokenizers: The current process just got forked, after parallelism has already been used. Disabling parallelism to avoid deadlocks...\n",
      "To disable this warning, you can either:\n",
      "\t- Avoid using `tokenizers` before the fork if possible\n",
      "\t- Explicitly set the environment variable TOKENIZERS_PARALLELISM=(true | false)\n",
      "Mean epoch loss: 3.167586957359314\n",
      "huggingface/tokenizers: The current process just got forked, after parallelism has already been used. Disabling parallelism to avoid deadlocks...\n",
      "To disable this warning, you can either:\n",
      "\t- Avoid using `tokenizers` before the fork if possible\n",
      "\t- Explicitly set the environment variable TOKENIZERS_PARALLELISM=(true | false)\n",
      "Mean validation loss: 30.28972019433975\n",
      "Starting epoch 4\n",
      "huggingface/tokenizers: The current process just got forked, after parallelism has already been used. Disabling parallelism to avoid deadlocks...\n",
      "To disable this warning, you can either:\n",
      "\t- Avoid using `tokenizers` before the fork if possible\n",
      "\t- Explicitly set the environment variable TOKENIZERS_PARALLELISM=(true | false)\n",
      "Mean epoch loss: 2.974439285840988\n",
      "huggingface/tokenizers: The current process just got forked, after parallelism has already been used. Disabling parallelism to avoid deadlocks...\n",
      "To disable this warning, you can either:\n",
      "\t- Avoid using `tokenizers` before the fork if possible\n",
      "\t- Explicitly set the environment variable TOKENIZERS_PARALLELISM=(true | false)\n",
      "Mean validation loss: 28.825632234954835\n",
      "Starting epoch 5\n",
      "huggingface/tokenizers: The current process just got forked, after parallelism has already been used. Disabling parallelism to avoid deadlocks...\n",
      "To disable this warning, you can either:\n",
      "\t- Avoid using `tokenizers` before the fork if possible\n",
      "\t- Explicitly set the environment variable TOKENIZERS_PARALLELISM=(true | false)\n",
      "Mean epoch loss: 2.8221716573762894\n",
      "huggingface/tokenizers: The current process just got forked, after parallelism has already been used. Disabling parallelism to avoid deadlocks...\n",
      "To disable this warning, you can either:\n",
      "\t- Avoid using `tokenizers` before the fork if possible\n",
      "\t- Explicitly set the environment variable TOKENIZERS_PARALLELISM=(true | false)\n",
      "Mean validation loss: 27.631425790882112\n",
      "Starting epoch 6\n",
      "huggingface/tokenizers: The current process just got forked, after parallelism has already been used. Disabling parallelism to avoid deadlocks...\n",
      "To disable this warning, you can either:\n",
      "\t- Avoid using `tokenizers` before the fork if possible\n",
      "\t- Explicitly set the environment variable TOKENIZERS_PARALLELISM=(true | false)\n",
      "Mean epoch loss: 2.6933051514291764\n",
      "huggingface/tokenizers: The current process just got forked, after parallelism has already been used. Disabling parallelism to avoid deadlocks...\n",
      "To disable this warning, you can either:\n",
      "\t- Avoid using `tokenizers` before the fork if possible\n",
      "\t- Explicitly set the environment variable TOKENIZERS_PARALLELISM=(true | false)\n",
      "Mean validation loss: 26.650660368490218\n",
      "Starting epoch 7\n",
      "huggingface/tokenizers: The current process just got forked, after parallelism has already been used. Disabling parallelism to avoid deadlocks...\n",
      "To disable this warning, you can either:\n",
      "\t- Avoid using `tokenizers` before the fork if possible\n",
      "\t- Explicitly set the environment variable TOKENIZERS_PARALLELISM=(true | false)\n",
      "Mean epoch loss: 2.5801417298030853\n",
      "huggingface/tokenizers: The current process just got forked, after parallelism has already been used. Disabling parallelism to avoid deadlocks...\n",
      "To disable this warning, you can either:\n",
      "\t- Avoid using `tokenizers` before the fork if possible\n",
      "\t- Explicitly set the environment variable TOKENIZERS_PARALLELISM=(true | false)\n",
      "Mean validation loss: 25.547081528425217\n",
      "Starting epoch 8\n",
      "huggingface/tokenizers: The current process just got forked, after parallelism has already been used. Disabling parallelism to avoid deadlocks...\n",
      "To disable this warning, you can either:\n",
      "\t- Avoid using `tokenizers` before the fork if possible\n",
      "\t- Explicitly set the environment variable TOKENIZERS_PARALLELISM=(true | false)\n",
      "Mean epoch loss: 2.4799415983724593\n",
      "huggingface/tokenizers: The current process just got forked, after parallelism has already been used. Disabling parallelism to avoid deadlocks...\n",
      "To disable this warning, you can either:\n",
      "\t- Avoid using `tokenizers` before the fork if possible\n",
      "\t- Explicitly set the environment variable TOKENIZERS_PARALLELISM=(true | false)\n",
      "Mean validation loss: 24.4831884288311\n",
      "Starting epoch 9\n",
      "huggingface/tokenizers: The current process just got forked, after parallelism has already been used. Disabling parallelism to avoid deadlocks...\n",
      "To disable this warning, you can either:\n",
      "\t- Avoid using `tokenizers` before the fork if possible\n",
      "\t- Explicitly set the environment variable TOKENIZERS_PARALLELISM=(true | false)\n",
      "Mean epoch loss: 2.3893334540891646\n",
      "huggingface/tokenizers: The current process just got forked, after parallelism has already been used. Disabling parallelism to avoid deadlocks...\n",
      "To disable this warning, you can either:\n",
      "\t- Avoid using `tokenizers` before the fork if possible\n",
      "\t- Explicitly set the environment variable TOKENIZERS_PARALLELISM=(true | false)\n",
      "Mean validation loss: 23.78528548297882\n",
      "Starting epoch 10\n",
      "huggingface/tokenizers: The current process just got forked, after parallelism has already been used. Disabling parallelism to avoid deadlocks...\n",
      "To disable this warning, you can either:\n",
      "\t- Avoid using `tokenizers` before the fork if possible\n",
      "\t- Explicitly set the environment variable TOKENIZERS_PARALLELISM=(true | false)\n",
      "Mean epoch loss: 2.307652710738182\n",
      "huggingface/tokenizers: The current process just got forked, after parallelism has already been used. Disabling parallelism to avoid deadlocks...\n",
      "To disable this warning, you can either:\n",
      "\t- Avoid using `tokenizers` before the fork if possible\n",
      "\t- Explicitly set the environment variable TOKENIZERS_PARALLELISM=(true | false)\n"
     ]
    }
   ],
   "source": [
    "# MAIN TRAINING LOOP\n",
    "for epoch in range(modelparams['num_epochs']):\n",
    "    print(\"Starting epoch\", epoch + 1)\n",
    "    train_model()\n",
    "    eval_model()\n",
    "\n",
    "print(\"Saving model ..\")\n",
    "save_location = modelparams['model_path']\n",
    "model_name = modelparams['model_name']\n",
    "if not os.path.exists(save_location):\n",
    "    os.makedirs(save_location)\n",
    "save_location = os.path.join(save_location, model_name)\n",
    "torch.save(model, save_location)"
   ]
  },
  {
   "cell_type": "code",
   "execution_count": null,
   "metadata": {
    "collapsed": false,
    "jupyter": {
     "outputs_hidden": false
    }
   },
   "outputs": [],
   "source": []
  }
 ],
 "metadata": {
  "kernelspec": {
   "display_name": "Python 3 (ipykernel)",
   "language": "python",
   "name": "python3"
  },
  "language_info": {
   "codemirror_mode": {
    "name": "ipython",
    "version": 3
   },
   "file_extension": ".py",
   "mimetype": "text/x-python",
   "name": "python",
   "nbconvert_exporter": "python",
   "pygments_lexer": "ipython3",
   "version": "3.9.7"
  }
 },
 "nbformat": 4,
 "nbformat_minor": 4
}
