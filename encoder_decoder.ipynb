{
 "cells": [
  {
   "cell_type": "code",
   "execution_count": 1,
   "metadata": {},
   "outputs": [
    {
     "name": "stderr",
     "output_type": "stream",
     "text": [
      "2023-06-16 11:27:06.733099: I tensorflow/core/platform/cpu_feature_guard.cc:182] This TensorFlow binary is optimized to use available CPU instructions in performance-critical operations.\n",
      "To enable the following instructions: AVX2 FMA, in other operations, rebuild TensorFlow with the appropriate compiler flags.\n"
     ]
    }
   ],
   "source": [
    "import tensorflow as tf\n",
    "from tensorflow import keras\n",
    "import numpy as np"
   ]
  },
  {
   "attachments": {},
   "cell_type": "markdown",
   "metadata": {},
   "source": [
    "Define encoder and decoder layers:"
   ]
  },
  {
   "cell_type": "code",
   "execution_count": 2,
   "metadata": {},
   "outputs": [],
   "source": [
    "class EncoderLayer(keras.layers.Layer):\n",
    "    def __init__(self, emb_dim, num_heads, hid_dim, dropout):\n",
    "        super(EncoderLayer, self).__init__()\n",
    "\n",
    "        self.attention = keras.layers.MultiHeadAttention(num_heads=num_heads, key_dim=emb_dim)\n",
    "        self.dropout1 = keras.layers.Dropout(dropout)\n",
    "        self.norm1 = keras.layers.LayerNormalization(epsilon=1e-6)\n",
    "\n",
    "        self.dense1 = keras.layers.Dense(hid_dim, activation='relu')\n",
    "        self.dense2 = keras.layers.Dense(emb_dim)\n",
    "        self.dropout2 = keras.layers.Dropout(dropout)\n",
    "        self.norm2 = keras.layers.LayerNormalization(epsilon=1e-6)\n",
    "\n",
    "    def call(self, inputs, training=True):\n",
    "        attention_output = self.attention(inputs, inputs)\n",
    "        attention_output = self.dropout1(attention_output, training=training)\n",
    "        attention_output = self.norm1(inputs + attention_output)\n",
    "\n",
    "        intermediate_output = self.dense1(attention_output)\n",
    "        intermediate_output = self.dense2(intermediate_output)\n",
    "        intermediate_output = self.dropout2(intermediate_output, training=training)\n",
    "        intermediate_output = self.norm2(attention_output + intermediate_output)\n",
    "\n",
    "        return intermediate_output\n",
    "\n",
    "\n",
    "class DecoderLayer(keras.layers.Layer):\n",
    "    def __init__(self, emb_dim, num_heads, hid_dim, dropout):\n",
    "        super(DecoderLayer, self).__init__()\n",
    "\n",
    "        self.attention1 = keras.layers.MultiHeadAttention(num_heads=num_heads, key_dim=emb_dim)\n",
    "        self.dropout1 = keras.layers.Dropout(dropout)\n",
    "        self.norm1 = keras.layers.LayerNormalization(epsilon=1e-6)\n",
    "\n",
    "        self.attention2 = keras.layers.MultiHeadAttention(num_heads=num_heads, key_dim=emb_dim)\n",
    "        self.dropout2 = keras.layers.Dropout(dropout)\n",
    "        self.norm2 = keras.layers.LayerNormalization(epsilon=1e-6)\n",
    "\n",
    "        self.dense1 = keras.layers.Dense(hid_dim, activation='relu')\n",
    "        self.dense2 = keras.layers.Dense(emb_dim)\n",
    "        self.dropout3 = keras.layers.Dropout(dropout)\n",
    "        self.norm3 = keras.layers.LayerNormalization(epsilon=1e-6)\n",
    "\n",
    "    def call(self, inputs, encoder_outputs, training=True):\n",
    "        attention_output1 = self.attention1(inputs, inputs)\n",
    "        attention_output1 = self.dropout1(attention_output1, training=training)\n",
    "        attention_output1 = self.norm1(inputs + attention_output1)\n",
    "\n",
    "        attention_output2 = self.attention2(attention_output1, encoder_outputs)\n",
    "        attention_output2 = self.dropout2(attention_output2, training=training)\n",
    "        attention_output2 = self.norm2(attention_output1 + attention_output2)\n",
    "\n",
    "        intermediate_output = self.dense1(attention_output2)\n",
    "        intermediate_output = self.dense2(intermediate_output)\n",
    "        intermediate_output = self.dropout3(intermediate_output, training=training)\n",
    "        intermediate_output = self.norm3(attention_output2 + intermediate_output)\n",
    "\n",
    "        return intermediate_output\n"
   ]
  },
  {
   "attachments": {},
   "cell_type": "markdown",
   "metadata": {},
   "source": [
    "Define encoder and decoder models:"
   ]
  },
  {
   "cell_type": "code",
   "execution_count": 3,
   "metadata": {},
   "outputs": [],
   "source": [
    "class Encoder(keras.layers.Layer):\n",
    "    def __init__(self, num_layers, emb_dim, num_heads, hid_dim, input_vocab_size, dropout):\n",
    "        super(Encoder, self).__init__()\n",
    "\n",
    "        self.emb_dim = emb_dim\n",
    "        self.embedding = keras.layers.Embedding(input_vocab_size, emb_dim)\n",
    "        self.dropout = keras.layers.Dropout(dropout)\n",
    "        self.encoder_layers = [EncoderLayer(emb_dim, num_heads, hid_dim, dropout) for _ in range(num_layers)]\n",
    "\n",
    "    def call(self, inputs, training=True):\n",
    "        inputs = self.embedding(inputs)\n",
    "        inputs *= tf.math.sqrt(tf.cast(self.emb_dim, tf.float32))\n",
    "        inputs = self.dropout(inputs, training=training)\n",
    "\n",
    "        for encoder_layer in self.encoder_layers:\n",
    "            inputs = encoder_layer(inputs, training=training)\n",
    "\n",
    "        return inputs\n",
    "\n",
    "\n",
    "class Decoder(keras.layers.Layer):\n",
    "    def __init__(self, num_layers, emb_dim, num_heads, hid_dim, output_vocab_size, dropout):\n",
    "        super(Decoder, self).__init__()\n",
    "\n",
    "        self.emb_dim = emb_dim\n",
    "        self.embedding = keras.layers.Embedding(output_vocab_size, emb_dim)\n",
    "        self.dropout = keras.layers.Dropout(dropout)\n",
    "        self.decoder_layers = [DecoderLayer(emb_dim, num_heads, hid_dim, dropout) for _ in range(num_layers)]\n",
    "\n",
    "    def call(self, inputs, encoder_outputs, training=True):\n",
    "        inputs = self.embedding(inputs)\n",
    "        inputs *= tf.math.sqrt(tf.cast(self.emb_dim, tf.float32))\n",
    "        inputs = self.dropout(inputs, training=training)\n",
    "\n",
    "        for decoder_layer in self.decoder_layers:\n",
    "            inputs = decoder_layer(inputs, encoder_outputs, training=training)\n",
    "\n",
    "        return inputs\n"
   ]
  },
  {
   "attachments": {},
   "cell_type": "markdown",
   "metadata": {},
   "source": [
    "Define the EncoderDecoder model:"
   ]
  },
  {
   "cell_type": "code",
   "execution_count": 4,
   "metadata": {},
   "outputs": [],
   "source": [
    "\n",
    "# class EncoderDecoder(keras.Model):\n",
    "#     def __init__(self, num_layers, emb_dim, num_heads, hid_dim, input_vocab_size, output_vocab_size, dropout):\n",
    "#         super(EncoderDecoder, self).__init__()\n",
    "\n",
    "#         self.encoder = Encoder(num_layers, emb_dim, num_heads, hid_dim, input_vocab_size, dropout)\n",
    "#         self.decoder = Decoder(num_layers, emb_dim, num_heads, hid_dim, output_vocab_size, dropout)\n",
    "#         self.final_dense = keras.layers.Dense(output_vocab_size)\n",
    "\n",
    "#     def call(self, inputs, training=True):\n",
    "#         encoder_outputs = self.encoder(inputs, training=training)\n",
    "#         decoder_outputs = self.decoder(inputs, encoder_outputs, training=training)  # Use inputs instead of targets\n",
    "#         final_outputs = self.final_dense(decoder_outputs)\n",
    "#         return final_outputs\n",
    "\n",
    "class EncoderDecoder(keras.Model):\n",
    "    def __init__(self, num_layers, emb_dim, num_heads, hid_dim, input_vocab_size, output_vocab_size, dropout):\n",
    "        super(EncoderDecoder, self).__init__()\n",
    "\n",
    "        self.encoder = Encoder(num_layers, emb_dim, num_heads, hid_dim, input_vocab_size, dropout)\n",
    "        self.decoder = Decoder(num_layers, emb_dim, num_heads, hid_dim, output_vocab_size, dropout)\n",
    "        self.final_dense = keras.layers.Dense(output_vocab_size)\n",
    "\n",
    "    def call(self, inputs, training=True):\n",
    "        encoder_outputs = self.encoder(inputs, training=training)\n",
    "        decoder_outputs = self.decoder(inputs, encoder_outputs, training=training)\n",
    "        final_outputs = self.final_dense(decoder_outputs)\n",
    "        return final_outputs\n",
    "\n",
    "\n",
    "\n"
   ]
  },
  {
   "attachments": {},
   "cell_type": "markdown",
   "metadata": {},
   "source": [
    "load train.json data:"
   ]
  },
  {
   "cell_type": "code",
   "execution_count": 5,
   "metadata": {},
   "outputs": [
    {
     "name": "stdout",
     "output_type": "stream",
     "text": [
      "<class 'list'>\n",
      "<class 'numpy.ndarray'>\n"
     ]
    }
   ],
   "source": [
    "import json\n",
    "train_data_path = \"/Users/sena/Desktop/sena-personal/sena-repos/ASDL/train_data/train.json\"\n",
    "\n",
    "input_data = []\n",
    "target_data = []\n",
    "\n",
    "with open(train_data_path, 'r') as file:\n",
    "    for line in file:\n",
    "        example = json.loads(line)\n",
    "        input_data.append(example['nl'])\n",
    "        target_data.append(example['code'])\n",
    "\n",
    "# check the label is nparrray:\n",
    "print(type(input_data))\n",
    "\n",
    "# convert to numpy array\n",
    "input_data = np.asarray(input_data)\n",
    "target_data = np.asarray(target_data)\n",
    "\n",
    "print(type(input_data))\n",
    "\n"
   ]
  },
  {
   "cell_type": "code",
   "execution_count": 6,
   "metadata": {},
   "outputs": [
    {
     "name": "stdout",
     "output_type": "stream",
     "text": [
      "Maximum sequence length: 567\n"
     ]
    }
   ],
   "source": [
    "max_length = 0\n",
    "\n",
    "with open(train_data_path, 'r') as file:\n",
    "    for line in file:\n",
    "        example = json.loads(line)\n",
    "        input_sequence = example['nl']\n",
    "        sequence_length = len(input_sequence.split())  # Split the sequence into tokens and get the length\n",
    "        max_length = max(max_length, sequence_length)\n",
    "\n",
    "print(\"Maximum sequence length:\", max_length)\n"
   ]
  },
  {
   "cell_type": "code",
   "execution_count": 7,
   "metadata": {},
   "outputs": [],
   "source": [
    "# Preprocess and encode the input data\n",
    "import json\n",
    "from tensorflow.keras.preprocessing.text import Tokenizer\n",
    "from tensorflow.keras.preprocessing.sequence import pad_sequences\n",
    "\n",
    "tokenizer = Tokenizer()\n",
    "tokenizer.fit_on_texts(input_data)\n",
    "encoded_input_data = tokenizer.texts_to_sequences(input_data)\n",
    "padded_input_data = pad_sequences(encoded_input_data, maxlen=max_length)\n",
    "\n"
   ]
  },
  {
   "cell_type": "code",
   "execution_count": 8,
   "metadata": {},
   "outputs": [],
   "source": [
    "# Preprocess and encode the target data\n",
    "\n",
    "tokenizer = Tokenizer()\n",
    "tokenizer.fit_on_texts(target_data)\n",
    "encoded_target_data = tokenizer.texts_to_sequences(target_data)\n",
    "padded_target_data = pad_sequences(encoded_target_data, maxlen=max_length)\n",
    "\n"
   ]
  },
  {
   "cell_type": "code",
   "execution_count": 11,
   "metadata": {},
   "outputs": [],
   "source": [
    "from tensorflow.keras.utils import to_categorical\n",
    "# Define model hyperparameters\n",
    "num_layers = 2\n",
    "emb_dim = 32\n",
    "num_heads = 4\n",
    "hid_dim = 64\n",
    "input_vocab_size = 100\n",
    "#output_vocab_size = 100\n",
    "dropout = 0.1\n",
    "\n",
    "max_index = np.max(padded_target_data)\n",
    "output_vocab_size = max_index + 1\n",
    "\n",
    "# Convert the target data to one-hot encoded vectors\n",
    "num_classes = output_vocab_size\n",
    "one_hot_target_data = to_categorical(padded_target_data, num_classes=num_classes)\n",
    "\n",
    "# Create an instance of the EncoderDecoder model\n",
    "model = EncoderDecoder(num_layers, emb_dim, num_heads, hid_dim, input_vocab_size, output_vocab_size, dropout)\n",
    "\n",
    "# Compile the model\n",
    "model.compile(optimizer='adam', loss='categorical_crossentropy')\n",
    "\n",
    "# Train the model\n",
    "model.fit(padded_input_data, one_hot_target_data, epochs=10, batch_size=2)"
   ]
  },
  {
   "cell_type": "code",
   "execution_count": null,
   "metadata": {},
   "outputs": [],
   "source": []
  }
 ],
 "metadata": {
  "kernelspec": {
   "display_name": "venv",
   "language": "python",
   "name": "python3"
  },
  "language_info": {
   "codemirror_mode": {
    "name": "ipython",
    "version": 3
   },
   "file_extension": ".py",
   "mimetype": "text/x-python",
   "name": "python",
   "nbconvert_exporter": "python",
   "pygments_lexer": "ipython3",
   "version": "3.9.6"
  },
  "orig_nbformat": 4
 },
 "nbformat": 4,
 "nbformat_minor": 2
}
