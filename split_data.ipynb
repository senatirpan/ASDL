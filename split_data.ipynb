{
 "cells": [
  {
   "cell_type": "code",
   "execution_count": 2,
   "metadata": {},
   "outputs": [
    {
     "name": "stdout",
     "output_type": "stream",
     "text": [
      "Done!\n"
     ]
    }
   ],
   "source": [
    "import json\n",
    "\n",
    "# Read the train data from a file\n",
    "code_samples = []\n",
    "nl_samples = []\n",
    "\n",
    "with open('train_data/train.json', 'r') as file:\n",
    "    for line in file:\n",
    "        sample = json.loads(line)\n",
    "        code_samples.append(sample['code'])\n",
    "        nl_samples.append(sample['nl'])\n",
    "\n",
    "# Write code samples to train_code.sample file\n",
    "with open('data/train_code.sample', 'w') as file:\n",
    "    file.write('\\n'.join(code_samples))\n",
    "\n",
    "# Write natural language samples to train_nl.sample file\n",
    "with open('data/train_nl.sample', 'w') as file:\n",
    "    file.write('\\n'.join(nl_samples))\n",
    "\n",
    "\n",
    "print(\"Done!\")"
   ]
  },
  {
   "cell_type": "code",
   "execution_count": 3,
   "metadata": {},
   "outputs": [
    {
     "name": "stdout",
     "output_type": "stream",
     "text": [
      "Done!\n"
     ]
    }
   ],
   "source": [
    "# Read the test data from a file\n",
    "code_samples_test = []\n",
    "nl_samples_test = []\n",
    "\n",
    "with open('train_data/dev.json', 'r') as file:\n",
    "    for line in file:\n",
    "        sample = json.loads(line)\n",
    "        code_samples_test.append(sample['code'])\n",
    "        nl_samples_test.append(sample['nl'])\n",
    "\n",
    "# Write code samples to test_code.sample file\n",
    "with open('data/code_valid.sample', 'w') as file:\n",
    "    file.write('\\n'.join(code_samples_test))\n",
    "\n",
    "# Write natural language samples to train_nl.sample file\n",
    "with open('data/nl_valid.sample', 'w') as file:\n",
    "    file.write('\\n'.join(nl_samples_test))\n",
    "\n",
    "\n",
    "print(\"Done!\")"
   ]
  }
 ],
 "metadata": {
  "kernelspec": {
   "display_name": ".venv",
   "language": "python",
   "name": "python3"
  },
  "language_info": {
   "codemirror_mode": {
    "name": "ipython",
    "version": 3
   },
   "file_extension": ".py",
   "mimetype": "text/x-python",
   "name": "python",
   "nbconvert_exporter": "python",
   "pygments_lexer": "ipython3",
   "version": "3.9.6"
  },
  "orig_nbformat": 4
 },
 "nbformat": 4,
 "nbformat_minor": 2
}
